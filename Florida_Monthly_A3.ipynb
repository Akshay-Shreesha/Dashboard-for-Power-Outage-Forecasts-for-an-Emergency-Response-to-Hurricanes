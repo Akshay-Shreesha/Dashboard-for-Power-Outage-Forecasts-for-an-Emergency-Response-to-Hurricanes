{
 "cells": [
  {
   "cell_type": "code",
   "execution_count": 3,
   "metadata": {},
   "outputs": [],
   "source": [
    "import pandas as pd\n",
    "import numpy as np\n",
    "import matplotlib.pyplot as plt\n",
    "from datetime import datetime\n",
    "import json\n",
    "from tqdm import tqdm \n",
    "import requests as req\n",
    "import geopandas as gpd\n",
    "import shapely as shp\n",
    "from shapely.geometry import Polygon, Point\n",
    "import rasterio\n",
    "from rasterio.plot import show\n",
    "from rasterio.plot import show_hist\n",
    "from rasterio.mask import mask\n",
    "from shapely.geometry import box\n",
    "from fiona.crs import from_epsg\n",
    "import pycrs\n",
    "from rasterstats import zonal_stats\n",
    "import glob\n",
    "from matplotlib_scalebar.scalebar import ScaleBar\n",
    "from mpl_toolkits.axes_grid1 import make_axes_locatable\n",
    "from mpl_toolkits.axes_grid1.inset_locator import zoomed_inset_axes\n",
    "from mpl_toolkits.axes_grid1.inset_locator import mark_inset\n",
    "import contextily as cx\n",
    "# Set options\n",
    "warnings.simplefilter(\"ignore\")"
   ]
  },
  {
   "cell_type": "code",
   "execution_count": 2,
   "metadata": {},
   "outputs": [],
   "source": [
    "# Import packages\n",
    "import os\n",
    "import warnings\n",
    "import glob\n",
    "import viirs"
   ]
  },
  {
   "cell_type": "code",
   "execution_count": 6,
   "metadata": {},
   "outputs": [],
   "source": [
    "hdf5_input_folder = \"C:/Users/omhai/OneDrive/Desktop/Shetty/Capstone Project/Nightlights_Monthly/Florida_Ian/VNP46A3\"\n",
    "\n",
    "# Defne path to output folder to store exported GeoTiff files\n",
    "# geotiff_output_folder = os.path.join(\n",
    "#     \"03-processed-data\", \"raster\", \"south-korea\", \"vnp46a2-grid\"\n",
    "# )\n",
    "\n",
    "\n",
    "geotiff_output_folder = \"C:/Users/omhai/OneDrive/Desktop/Shetty/Capstone Project/Nightlights_Monthly/Florida_Ian/VNP46A3-Processed\""
   ]
  },
  {
   "cell_type": "code",
   "execution_count": 7,
   "metadata": {},
   "outputs": [
    {
     "data": {
      "text/plain": [
       "['C:/Users/omhai/OneDrive/Desktop/Shetty/Capstone Project/Nightlights_Monthly/Florida_Ian/VNP46A3\\\\VNP46A3.A2022213.h09v05.001.2022262121335.h5',\n",
       " 'C:/Users/omhai/OneDrive/Desktop/Shetty/Capstone Project/Nightlights_Monthly/Florida_Ian/VNP46A3\\\\VNP46A3.A2022213.h09v06.001.2022262121338.h5']"
      ]
     },
     "execution_count": 7,
     "metadata": {},
     "output_type": "execute_result"
    }
   ],
   "source": [
    "hdf5_files = glob.glob(os.path.join(hdf5_input_folder, \"*.h5\"))\n",
    "hdf5_files"
   ]
  },
  {
   "cell_type": "code",
   "execution_count": 8,
   "metadata": {},
   "outputs": [
    {
     "name": "stdout",
     "output_type": "stream",
     "text": [
      "Started preprocessing: VNP46A3.A2022213.h09v05.001.2022262121335.h5\n",
      "Extracting bands...\n",
      "Applying scale factor...\n",
      "Masking for fill values...\n",
      "Filling masked values...\n",
      "Creating metadata...\n",
      "Exporting to GeoTiff...\n",
      "Exported: vnp46a3-a2022213-h09v05-001-2022262121335.tif\n",
      "Completed preprocessing: VNP46A3.A2022213.h09v05.001.2022262121335.h5\n",
      "\n",
      "Preprocessed file: 1 of 2\n",
      "\n",
      "\n",
      "Started preprocessing: VNP46A3.A2022213.h09v06.001.2022262121338.h5\n",
      "Extracting bands...\n",
      "Applying scale factor...\n",
      "Masking for fill values...\n",
      "Filling masked values...\n",
      "Creating metadata...\n",
      "Exporting to GeoTiff...\n",
      "Exported: vnp46a3-a2022213-h09v06-001-2022262121338.tif\n",
      "Completed preprocessing: VNP46A3.A2022213.h09v06.001.2022262121338.h5\n",
      "\n",
      "Preprocessed file: 2 of 2\n",
      "\n",
      "\n"
     ]
    }
   ],
   "source": [
    "# Preprocess each HDF5 file (extract bands, mask for fill values,\n",
    "#  poor-quality, no retrieval, clouds, sea water, fill masked values\n",
    "#  with NaN, export to GeoTiff)\n",
    "hdf5_files = glob.glob(os.path.join(hdf5_input_folder, \"*.h5\"))\n",
    "processed_files = 0\n",
    "total_files = len(hdf5_files)\n",
    "for hdf5 in hdf5_files:\n",
    "    viirs.preprocess_vnp46a3(\n",
    "        hdf5_path=hdf5, output_folder=geotiff_output_folder\n",
    "    )\n",
    "    processed_files += 1\n",
    "    print(f\"Preprocessed file: {processed_files} of {total_files}\\n\\n\")"
   ]
  },
  {
   "cell_type": "code",
   "execution_count": 15,
   "metadata": {},
   "outputs": [],
   "source": [
    "#tiff files we have are two vertical files so we will join them here\n",
    "\n",
    "# Define path to folder containing preprocessed VNP46A1 GeoTiff files\n",
    "geotiff_input_folder =\"C:/Users/omhai/OneDrive/Desktop/Shetty/Capstone Project/Nightlights_Monthly/Florida_Ian/VNP46A3-Processed\"\n",
    "\n",
    "# Defne path to output folder to store concatenated, exported GeoTiff files\n",
    "geotiff_output_folder = \"C:/Users/omhai/OneDrive/Desktop/Shetty/Capstone Project/Nightlights_Monthly/Florida_Ian/VNP46A3-Concatenate\"\n",
    "\n",
    "# Set start date and end date for processing\n",
    "#start_date, end_date = \"2022-08-01\", \"2022-08-31\""
   ]
  },
  {
   "cell_type": "code",
   "execution_count": 16,
   "metadata": {},
   "outputs": [
    {
     "name": "stderr",
     "output_type": "stream",
     "text": [
      "  0%|          | 0/1 [00:00<?, ?it/s]"
     ]
    },
    {
     "name": "stderr",
     "output_type": "stream",
     "text": [
      "100%|██████████| 1/1 [00:00<00:00,  2.29it/s]"
     ]
    },
    {
     "name": "stdout",
     "output_type": "stream",
     "text": [
      "Processed Date: 08-01-2022\n"
     ]
    },
    {
     "name": "stderr",
     "output_type": "stream",
     "text": [
      "\n"
     ]
    }
   ],
   "source": [
    "viirs.concatenate(\n",
    "            input_folder=geotiff_input_folder,\n",
    "            output_folder=geotiff_output_folder,\n",
    "            name=\"asd\"\n",
    "        )"
   ]
  },
  {
   "cell_type": "code",
   "execution_count": null,
   "metadata": {},
   "outputs": [],
   "source": []
  }
 ],
 "metadata": {
  "kernelspec": {
   "display_name": "gdalpip",
   "language": "python",
   "name": "python3"
  },
  "language_info": {
   "codemirror_mode": {
    "name": "ipython",
    "version": 3
   },
   "file_extension": ".py",
   "mimetype": "text/x-python",
   "name": "python",
   "nbconvert_exporter": "python",
   "pygments_lexer": "ipython3",
   "version": "3.9.16"
  },
  "orig_nbformat": 4
 },
 "nbformat": 4,
 "nbformat_minor": 2
}
